{
  "nbformat": 4,
  "nbformat_minor": 0,
  "metadata": {
    "colab": {
      "name": "Basic ML.ipynb",
      "provenance": [],
      "authorship_tag": "ABX9TyMfUpPnHr8Q+swbVI6fLUON",
      "include_colab_link": true
    },
    "kernelspec": {
      "name": "python3",
      "display_name": "Python 3"
    },
    "language_info": {
      "name": "python"
    }
  },
  "cells": [
    {
      "cell_type": "markdown",
      "metadata": {
        "id": "view-in-github",
        "colab_type": "text"
      },
      "source": [
        "<a href=\"https://colab.research.google.com/github/sirajshaik2003/Basic-ML/blob/main/Basic_ML.ipynb\" target=\"_parent\"><img src=\"https://colab.research.google.com/assets/colab-badge.svg\" alt=\"Open In Colab\"/></a>"
      ]
    },
    {
      "cell_type": "markdown",
      "metadata": {
        "id": "5tiSyTYuW0YP"
      },
      "source": [
        "# python program to check whether the given number is Even or Odd.\n",
        " \n",
        "###Algorithm\n",
        "    * Start\n",
        "    * Read a\n",
        "    * Check Even or Odd with the condition (a%2=0) or not\n",
        "    * If it is even write The number is Even\n",
        "    * else write The number is Odd\n",
        "    * stop"
      ]
    },
    {
      "cell_type": "code",
      "metadata": {
        "id": "GLiXB8n5YYwW"
      },
      "source": [
        "a=int(input(\"Enter a number:\"))\n",
        "if(a%2==0):\n",
        "    print(\"The number is Even\")\n",
        "else:\n",
        "    print(\"The number is Odd\")"
      ],
      "execution_count": null,
      "outputs": []
    },
    {
      "cell_type": "markdown",
      "metadata": {
        "id": "oMUH_LLBY8He"
      },
      "source": [
        "Enter a number:3\n",
        " \n",
        "The number is Odd"
      ]
    },
    {
      "cell_type": "markdown",
      "metadata": {
        "id": "85BXnLK2ZGvw"
      },
      "source": [
        "# python program to find sum of first n  natural numbers.\n",
        " \n",
        "###Algorithm \n",
        " \n",
        "    * Start\n",
        "    * Read n\n",
        "    * Initialize sum\n",
        "    * i=1 to n+1 do\n",
        "    * Do sum=sum+i in loop\n",
        "    * write sum\n",
        "    * Stop"
      ]
    },
    {
      "cell_type": "code",
      "metadata": {
        "id": "YYQT0fdsa8Dv"
      },
      "source": [
        "n=int(input(\"Enter a number:\")\n",
        "sum=0\n",
        "for i in range(1,n+1):\n",
        "    sum+=i\n",
        "print(sum)"
      ],
      "execution_count": null,
      "outputs": []
    },
    {
      "cell_type": "markdown",
      "metadata": {
        "id": "TS0LBMgvcAp6"
      },
      "source": [
        "Enter a number:20\n",
        " \n",
        "210"
      ]
    },
    {
      "cell_type": "markdown",
      "metadata": {
        "id": "LWoBgyeLcJDY"
      },
      "source": [
        "# Python program to find the factorial of a number.\n",
        " \n",
        "###Algorithm\n",
        "    * Start\n",
        "    * Read a\n",
        "    * Initialize fact\n",
        "    * i=1 to a+1 do\n",
        "    * Do fact=fact*i in loop\n",
        "    * Write fact \n",
        "    * Stop"
      ]
    },
    {
      "cell_type": "code",
      "metadata": {
        "id": "7dLUuKoPdJ2-"
      },
      "source": [
        "a=int(input(\"Enter a number:\")\n",
        "fact=1\n",
        "for i in range(1,a+1):\n",
        "    fact*=i\n",
        "print(fact)"
      ],
      "execution_count": null,
      "outputs": []
    },
    {
      "cell_type": "markdown",
      "metadata": {
        "id": "OuTso8p4detH"
      },
      "source": [
        "Enter a number:5\n",
        " \n",
        "120"
      ]
    }
  ]
}