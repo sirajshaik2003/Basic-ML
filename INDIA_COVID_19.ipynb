{
  "nbformat": 4,
  "nbformat_minor": 0,
  "metadata": {
    "colab": {
      "name": "INDIA_COVID 19.ipynb",
      "provenance": [],
      "authorship_tag": "ABX9TyPEXac61Wi0eJr6OoFckMtT"
    },
    "kernelspec": {
      "name": "python3",
      "display_name": "Python 3"
    },
    "language_info": {
      "name": "python"
    }
  },
  "cells": [
    {
      "cell_type": "markdown",
      "metadata": {
        "id": "pNfJJjX8Wnn5"
      },
      "source": [
        "## **EXPLORATIVE DATA ANALYSIS(EDA)**\n",
        "\n",
        "\n",
        "> Explorative Data Analysis is a process where one learns about the data, forms insights and identifies important columns (features) that can be user to tell a story or later formulate a ML problem.\n",
        "\n"
      ]
    },
    {
      "cell_type": "code",
      "metadata": {
        "id": "Aoc93ddHVEkq"
      },
      "source": [
        "import numpy as np\n",
        "import pandas as pd\n",
        "import matplotlib.pyplot as plt\n",
        "import seaborn as sns\n",
        "\n",
        "import warnings\n",
        "warnings.filterwarnings(\"ignore\")\n",
        "\n",
        "%matplotlib inline"
      ],
      "execution_count": 1,
      "outputs": []
    },
    {
      "cell_type": "markdown",
      "metadata": {
        "id": "qVe5MyKpYIGm"
      },
      "source": [
        "* Here the required libraries has been imported.\n",
        "\n",
        "\n"
      ]
    },
    {
      "cell_type": "code",
      "metadata": {
        "id": "GtnjJrn_ZOd6"
      },
      "source": [
        "covidata=pd.read_csv('/content/Latest Covid-19 India Status.csv')"
      ],
      "execution_count": 4,
      "outputs": []
    },
    {
      "cell_type": "markdown",
      "metadata": {
        "id": "73XDFL2GZ3BQ"
      },
      "source": [
        "\n",
        "\n",
        "*   The data has been imported as a dataset into variable data using the method `.read_csv()`\n",
        "\n",
        "\n"
      ]
    },
    {
      "cell_type": "code",
      "metadata": {
        "colab": {
          "base_uri": "https://localhost:8080/",
          "height": 0
        },
        "id": "ud_ZIxrHakHy",
        "outputId": "710d78b8-165f-4001-de4d-216c52d01ef4"
      },
      "source": [
        "covidata.shape"
      ],
      "execution_count": 5,
      "outputs": [
        {
          "output_type": "execute_result",
          "data": {
            "text/plain": [
              "(36, 8)"
            ]
          },
          "metadata": {},
          "execution_count": 5
        }
      ]
    },
    {
      "cell_type": "markdown",
      "metadata": {
        "id": "_gr27AK8a2ON"
      },
      "source": [
        "* with the help of `.shape` we got size of dataset i.e, There are 36 records and 8 columns."
      ]
    },
    {
      "cell_type": "code",
      "metadata": {
        "colab": {
          "base_uri": "https://localhost:8080/",
          "height": 203
        },
        "id": "zME4dA1LbgbR",
        "outputId": "68e5f89a-f6e7-478e-8dcd-313ff4afa62f"
      },
      "source": [
        "covidata.head()"
      ],
      "execution_count": 6,
      "outputs": [
        {
          "output_type": "execute_result",
          "data": {
            "text/html": [
              "<div>\n",
              "<style scoped>\n",
              "    .dataframe tbody tr th:only-of-type {\n",
              "        vertical-align: middle;\n",
              "    }\n",
              "\n",
              "    .dataframe tbody tr th {\n",
              "        vertical-align: top;\n",
              "    }\n",
              "\n",
              "    .dataframe thead th {\n",
              "        text-align: right;\n",
              "    }\n",
              "</style>\n",
              "<table border=\"1\" class=\"dataframe\">\n",
              "  <thead>\n",
              "    <tr style=\"text-align: right;\">\n",
              "      <th></th>\n",
              "      <th>State/UTs</th>\n",
              "      <th>Total Cases</th>\n",
              "      <th>Active</th>\n",
              "      <th>Discharged</th>\n",
              "      <th>Deaths</th>\n",
              "      <th>Active Ratio (%)</th>\n",
              "      <th>Discharge Ratio (%)</th>\n",
              "      <th>Death Ratio (%)</th>\n",
              "    </tr>\n",
              "  </thead>\n",
              "  <tbody>\n",
              "    <tr>\n",
              "      <th>0</th>\n",
              "      <td>Andaman and Nicobar</td>\n",
              "      <td>7572</td>\n",
              "      <td>6</td>\n",
              "      <td>7437</td>\n",
              "      <td>129</td>\n",
              "      <td>0.08</td>\n",
              "      <td>98.22</td>\n",
              "      <td>1.70</td>\n",
              "    </tr>\n",
              "    <tr>\n",
              "      <th>1</th>\n",
              "      <td>Andhra Pradesh</td>\n",
              "      <td>2022064</td>\n",
              "      <td>14550</td>\n",
              "      <td>1993589</td>\n",
              "      <td>13925</td>\n",
              "      <td>0.72</td>\n",
              "      <td>98.59</td>\n",
              "      <td>0.69</td>\n",
              "    </tr>\n",
              "    <tr>\n",
              "      <th>2</th>\n",
              "      <td>Arunachal Pradesh</td>\n",
              "      <td>53408</td>\n",
              "      <td>634</td>\n",
              "      <td>52507</td>\n",
              "      <td>267</td>\n",
              "      <td>1.19</td>\n",
              "      <td>98.31</td>\n",
              "      <td>0.50</td>\n",
              "    </tr>\n",
              "    <tr>\n",
              "      <th>3</th>\n",
              "      <td>Assam</td>\n",
              "      <td>592616</td>\n",
              "      <td>6415</td>\n",
              "      <td>580491</td>\n",
              "      <td>5710</td>\n",
              "      <td>1.08</td>\n",
              "      <td>97.95</td>\n",
              "      <td>0.96</td>\n",
              "    </tr>\n",
              "    <tr>\n",
              "      <th>4</th>\n",
              "      <td>Bihar</td>\n",
              "      <td>725759</td>\n",
              "      <td>55</td>\n",
              "      <td>716048</td>\n",
              "      <td>9656</td>\n",
              "      <td>0.01</td>\n",
              "      <td>98.66</td>\n",
              "      <td>1.33</td>\n",
              "    </tr>\n",
              "  </tbody>\n",
              "</table>\n",
              "</div>"
            ],
            "text/plain": [
              "             State/UTs  Total Cases  ...  Discharge Ratio (%)  Death Ratio (%)\n",
              "0  Andaman and Nicobar         7572  ...                98.22             1.70\n",
              "1       Andhra Pradesh      2022064  ...                98.59             0.69\n",
              "2    Arunachal Pradesh        53408  ...                98.31             0.50\n",
              "3                Assam       592616  ...                97.95             0.96\n",
              "4                Bihar       725759  ...                98.66             1.33\n",
              "\n",
              "[5 rows x 8 columns]"
            ]
          },
          "metadata": {},
          "execution_count": 6
        }
      ]
    },
    {
      "cell_type": "markdown",
      "metadata": {
        "id": "ER1m0m1hbzpd"
      },
      "source": [
        "* The `.head()` method is used to see first five records of the dataframe."
      ]
    },
    {
      "cell_type": "code",
      "metadata": {
        "colab": {
          "base_uri": "https://localhost:8080/",
          "height": 203
        },
        "id": "d6RDAbXXcKM4",
        "outputId": "28428cf0-7623-443f-fe30-f82a4a63bdd7"
      },
      "source": [
        "covidata.tail()"
      ],
      "execution_count": 7,
      "outputs": [
        {
          "output_type": "execute_result",
          "data": {
            "text/html": [
              "<div>\n",
              "<style scoped>\n",
              "    .dataframe tbody tr th:only-of-type {\n",
              "        vertical-align: middle;\n",
              "    }\n",
              "\n",
              "    .dataframe tbody tr th {\n",
              "        vertical-align: top;\n",
              "    }\n",
              "\n",
              "    .dataframe thead th {\n",
              "        text-align: right;\n",
              "    }\n",
              "</style>\n",
              "<table border=\"1\" class=\"dataframe\">\n",
              "  <thead>\n",
              "    <tr style=\"text-align: right;\">\n",
              "      <th></th>\n",
              "      <th>State/UTs</th>\n",
              "      <th>Total Cases</th>\n",
              "      <th>Active</th>\n",
              "      <th>Discharged</th>\n",
              "      <th>Deaths</th>\n",
              "      <th>Active Ratio (%)</th>\n",
              "      <th>Discharge Ratio (%)</th>\n",
              "      <th>Death Ratio (%)</th>\n",
              "    </tr>\n",
              "  </thead>\n",
              "  <tbody>\n",
              "    <tr>\n",
              "      <th>31</th>\n",
              "      <td>Telengana</td>\n",
              "      <td>659844</td>\n",
              "      <td>5505</td>\n",
              "      <td>650453</td>\n",
              "      <td>3886</td>\n",
              "      <td>0.83</td>\n",
              "      <td>98.58</td>\n",
              "      <td>0.59</td>\n",
              "    </tr>\n",
              "    <tr>\n",
              "      <th>32</th>\n",
              "      <td>Tripura</td>\n",
              "      <td>83360</td>\n",
              "      <td>691</td>\n",
              "      <td>81866</td>\n",
              "      <td>803</td>\n",
              "      <td>0.83</td>\n",
              "      <td>98.21</td>\n",
              "      <td>0.96</td>\n",
              "    </tr>\n",
              "    <tr>\n",
              "      <th>33</th>\n",
              "      <td>Uttar Pradesh</td>\n",
              "      <td>1709457</td>\n",
              "      <td>227</td>\n",
              "      <td>1686369</td>\n",
              "      <td>22861</td>\n",
              "      <td>0.01</td>\n",
              "      <td>98.65</td>\n",
              "      <td>1.34</td>\n",
              "    </tr>\n",
              "    <tr>\n",
              "      <th>34</th>\n",
              "      <td>Uttarakhand</td>\n",
              "      <td>343125</td>\n",
              "      <td>379</td>\n",
              "      <td>335358</td>\n",
              "      <td>7388</td>\n",
              "      <td>0.11</td>\n",
              "      <td>97.74</td>\n",
              "      <td>2.15</td>\n",
              "    </tr>\n",
              "    <tr>\n",
              "      <th>35</th>\n",
              "      <td>West Bengal</td>\n",
              "      <td>1552576</td>\n",
              "      <td>8480</td>\n",
              "      <td>1525581</td>\n",
              "      <td>18515</td>\n",
              "      <td>0.55</td>\n",
              "      <td>98.26</td>\n",
              "      <td>1.19</td>\n",
              "    </tr>\n",
              "  </tbody>\n",
              "</table>\n",
              "</div>"
            ],
            "text/plain": [
              "        State/UTs  Total Cases  ...  Discharge Ratio (%)  Death Ratio (%)\n",
              "31      Telengana       659844  ...                98.58             0.59\n",
              "32        Tripura        83360  ...                98.21             0.96\n",
              "33  Uttar Pradesh      1709457  ...                98.65             1.34\n",
              "34    Uttarakhand       343125  ...                97.74             2.15\n",
              "35    West Bengal      1552576  ...                98.26             1.19\n",
              "\n",
              "[5 rows x 8 columns]"
            ]
          },
          "metadata": {},
          "execution_count": 7
        }
      ]
    },
    {
      "cell_type": "markdown",
      "metadata": {
        "id": "3MLmQt7QdQD6"
      },
      "source": [
        "* The `.tail()` method is used to see last five records of the dataframe."
      ]
    },
    {
      "cell_type": "code",
      "metadata": {
        "colab": {
          "base_uri": "https://localhost:8080/",
          "height": 295
        },
        "id": "uUkjm-3bd5jM",
        "outputId": "d2a518e8-cf15-47d5-fa60-c4cfae94f963"
      },
      "source": [
        "covidata.describe()"
      ],
      "execution_count": 10,
      "outputs": [
        {
          "output_type": "execute_result",
          "data": {
            "text/html": [
              "<div>\n",
              "<style scoped>\n",
              "    .dataframe tbody tr th:only-of-type {\n",
              "        vertical-align: middle;\n",
              "    }\n",
              "\n",
              "    .dataframe tbody tr th {\n",
              "        vertical-align: top;\n",
              "    }\n",
              "\n",
              "    .dataframe thead th {\n",
              "        text-align: right;\n",
              "    }\n",
              "</style>\n",
              "<table border=\"1\" class=\"dataframe\">\n",
              "  <thead>\n",
              "    <tr style=\"text-align: right;\">\n",
              "      <th></th>\n",
              "      <th>Total Cases</th>\n",
              "      <th>Active</th>\n",
              "      <th>Discharged</th>\n",
              "      <th>Deaths</th>\n",
              "      <th>Active Ratio (%)</th>\n",
              "      <th>Discharge Ratio (%)</th>\n",
              "      <th>Death Ratio (%)</th>\n",
              "    </tr>\n",
              "  </thead>\n",
              "  <tbody>\n",
              "    <tr>\n",
              "      <th>count</th>\n",
              "      <td>3.600000e+01</td>\n",
              "      <td>36.000000</td>\n",
              "      <td>3.600000e+01</td>\n",
              "      <td>36.000000</td>\n",
              "      <td>36.000000</td>\n",
              "      <td>36.000000</td>\n",
              "      <td>36.000000</td>\n",
              "    </tr>\n",
              "    <tr>\n",
              "      <th>mean</th>\n",
              "      <td>9.183012e+05</td>\n",
              "      <td>10912.888889</td>\n",
              "      <td>8.951371e+05</td>\n",
              "      <td>12251.166667</td>\n",
              "      <td>1.251111</td>\n",
              "      <td>97.483333</td>\n",
              "      <td>1.265833</td>\n",
              "    </tr>\n",
              "    <tr>\n",
              "      <th>std</th>\n",
              "      <td>1.349550e+06</td>\n",
              "      <td>40262.354605</td>\n",
              "      <td>1.304503e+06</td>\n",
              "      <td>23636.218030</td>\n",
              "      <td>3.001101</td>\n",
              "      <td>2.885218</td>\n",
              "      <td>0.564777</td>\n",
              "    </tr>\n",
              "    <tr>\n",
              "      <th>min</th>\n",
              "      <td>7.572000e+03</td>\n",
              "      <td>2.000000</td>\n",
              "      <td>7.437000e+03</td>\n",
              "      <td>4.000000</td>\n",
              "      <td>0.010000</td>\n",
              "      <td>82.280000</td>\n",
              "      <td>0.040000</td>\n",
              "    </tr>\n",
              "    <tr>\n",
              "      <th>25%</th>\n",
              "      <td>7.428200e+04</td>\n",
              "      <td>145.500000</td>\n",
              "      <td>7.135150e+04</td>\n",
              "      <td>811.250000</td>\n",
              "      <td>0.047500</td>\n",
              "      <td>97.620000</td>\n",
              "      <td>0.955000</td>\n",
              "    </tr>\n",
              "    <tr>\n",
              "      <th>50%</th>\n",
              "      <td>4.702955e+05</td>\n",
              "      <td>701.500000</td>\n",
              "      <td>4.616035e+05</td>\n",
              "      <td>5421.500000</td>\n",
              "      <td>0.530000</td>\n",
              "      <td>98.240000</td>\n",
              "      <td>1.300000</td>\n",
              "    </tr>\n",
              "    <tr>\n",
              "      <th>75%</th>\n",
              "      <td>1.006543e+06</td>\n",
              "      <td>5709.250000</td>\n",
              "      <td>9.925152e+05</td>\n",
              "      <td>13649.000000</td>\n",
              "      <td>0.830000</td>\n",
              "      <td>98.652500</td>\n",
              "      <td>1.590000</td>\n",
              "    </tr>\n",
              "    <tr>\n",
              "      <th>max</th>\n",
              "      <td>6.489800e+06</td>\n",
              "      <td>239338.000000</td>\n",
              "      <td>6.300755e+06</td>\n",
              "      <td>137811.000000</td>\n",
              "      <td>17.370000</td>\n",
              "      <td>99.940000</td>\n",
              "      <td>2.740000</td>\n",
              "    </tr>\n",
              "  </tbody>\n",
              "</table>\n",
              "</div>"
            ],
            "text/plain": [
              "        Total Cases         Active  ...  Discharge Ratio (%)  Death Ratio (%)\n",
              "count  3.600000e+01      36.000000  ...            36.000000        36.000000\n",
              "mean   9.183012e+05   10912.888889  ...            97.483333         1.265833\n",
              "std    1.349550e+06   40262.354605  ...             2.885218         0.564777\n",
              "min    7.572000e+03       2.000000  ...            82.280000         0.040000\n",
              "25%    7.428200e+04     145.500000  ...            97.620000         0.955000\n",
              "50%    4.702955e+05     701.500000  ...            98.240000         1.300000\n",
              "75%    1.006543e+06    5709.250000  ...            98.652500         1.590000\n",
              "max    6.489800e+06  239338.000000  ...            99.940000         2.740000\n",
              "\n",
              "[8 rows x 7 columns]"
            ]
          },
          "metadata": {},
          "execution_count": 10
        }
      ]
    },
    {
      "cell_type": "markdown",
      "metadata": {
        "id": "Bo3l1nP3eNju"
      },
      "source": [
        "* The `.describe()` method gives the statistical information about dataset."
      ]
    },
    {
      "cell_type": "code",
      "metadata": {
        "id": "ckwg3DOchEQk"
      },
      "source": [
        "covidata.rename(columns={'State/UTs':'STATES'},inplace=True)"
      ],
      "execution_count": 19,
      "outputs": []
    },
    {
      "cell_type": "markdown",
      "metadata": {
        "id": "PibpB7PcjubW"
      },
      "source": [
        "* Here for our convenience the name of `State/UTs` has been changed to `STATES`."
      ]
    },
    {
      "cell_type": "code",
      "metadata": {
        "colab": {
          "base_uri": "https://localhost:8080/",
          "height": 0
        },
        "id": "TaAjIQIWlA2F",
        "outputId": "8b144f90-759c-4841-f566-df87fc59624a"
      },
      "source": [
        "covidata.STATES.unique()"
      ],
      "execution_count": 21,
      "outputs": [
        {
          "output_type": "execute_result",
          "data": {
            "text/plain": [
              "array(['Andaman and Nicobar', 'Andhra Pradesh', 'Arunachal Pradesh',\n",
              "       'Assam', 'Bihar', 'Chandigarh', 'Chhattisgarh',\n",
              "       'Dadra and Nagar Haveli and Daman and Diu', 'Delhi', 'Goa',\n",
              "       'Gujarat', 'Haryana', 'Himachal Pradesh', 'Jammu and Kashmir',\n",
              "       'Jharkhand', 'Karnataka', 'Kerala', 'Ladakh', 'Lakshadweep',\n",
              "       'Madhya Pradesh', 'Maharashtra', 'Manipur', 'Meghalaya', 'Mizoram',\n",
              "       'Nagaland', 'Odisha', 'Puducherry', 'Punjab', 'Rajasthan',\n",
              "       'Sikkim', 'Tamil Nadu', 'Telengana', 'Tripura', 'Uttar Pradesh',\n",
              "       'Uttarakhand', 'West Bengal'], dtype=object)"
            ]
          },
          "metadata": {},
          "execution_count": 21
        }
      ]
    },
    {
      "cell_type": "markdown",
      "metadata": {
        "id": "TAjgtkrrmBO-"
      },
      "source": [
        "* The `.unique()` method returns the list of states which are unique and dtype of the array is object."
      ]
    },
    {
      "cell_type": "code",
      "metadata": {
        "colab": {
          "base_uri": "https://localhost:8080/",
          "height": 0
        },
        "id": "Eft1ZN-2mh7H",
        "outputId": "0bbc29a2-c423-46ee-ba7a-653566128e53"
      },
      "source": [
        "covidata.info()"
      ],
      "execution_count": 23,
      "outputs": [
        {
          "output_type": "stream",
          "name": "stdout",
          "text": [
            "<class 'pandas.core.frame.DataFrame'>\n",
            "RangeIndex: 36 entries, 0 to 35\n",
            "Data columns (total 8 columns):\n",
            " #   Column               Non-Null Count  Dtype  \n",
            "---  ------               --------------  -----  \n",
            " 0   STATES               36 non-null     object \n",
            " 1   Total Cases          36 non-null     int64  \n",
            " 2   Active               36 non-null     int64  \n",
            " 3   Discharged           36 non-null     int64  \n",
            " 4   Deaths               36 non-null     int64  \n",
            " 5   Active Ratio (%)     36 non-null     float64\n",
            " 6   Discharge Ratio (%)  36 non-null     float64\n",
            " 7   Death Ratio (%)      36 non-null     float64\n",
            "dtypes: float64(3), int64(4), object(1)\n",
            "memory usage: 2.4+ KB\n"
          ]
        }
      ]
    },
    {
      "cell_type": "markdown",
      "metadata": {
        "id": "ZV63UTmXmplW"
      },
      "source": [
        "* Features, values and their data types present in a Data frame can be fount with the method `.info()` . It is found that all cells are non empty."
      ]
    },
    {
      "cell_type": "code",
      "metadata": {
        "colab": {
          "base_uri": "https://localhost:8080/",
          "height": 203
        },
        "id": "l-mYnqPvnLbh",
        "outputId": "ed051e42-a3f9-4168-a09f-546720a42a42"
      },
      "source": [
        "covidata.isnull().head()"
      ],
      "execution_count": 197,
      "outputs": [
        {
          "output_type": "execute_result",
          "data": {
            "text/html": [
              "<div>\n",
              "<style scoped>\n",
              "    .dataframe tbody tr th:only-of-type {\n",
              "        vertical-align: middle;\n",
              "    }\n",
              "\n",
              "    .dataframe tbody tr th {\n",
              "        vertical-align: top;\n",
              "    }\n",
              "\n",
              "    .dataframe thead th {\n",
              "        text-align: right;\n",
              "    }\n",
              "</style>\n",
              "<table border=\"1\" class=\"dataframe\">\n",
              "  <thead>\n",
              "    <tr style=\"text-align: right;\">\n",
              "      <th></th>\n",
              "      <th>STATES</th>\n",
              "      <th>Total Cases</th>\n",
              "      <th>Active</th>\n",
              "      <th>Discharged</th>\n",
              "      <th>Deaths</th>\n",
              "      <th>Active Ratio (%)</th>\n",
              "      <th>Discharge Ratio (%)</th>\n",
              "      <th>Death Ratio (%)</th>\n",
              "    </tr>\n",
              "  </thead>\n",
              "  <tbody>\n",
              "    <tr>\n",
              "      <th>0</th>\n",
              "      <td>False</td>\n",
              "      <td>False</td>\n",
              "      <td>False</td>\n",
              "      <td>False</td>\n",
              "      <td>False</td>\n",
              "      <td>False</td>\n",
              "      <td>False</td>\n",
              "      <td>False</td>\n",
              "    </tr>\n",
              "    <tr>\n",
              "      <th>1</th>\n",
              "      <td>False</td>\n",
              "      <td>False</td>\n",
              "      <td>False</td>\n",
              "      <td>False</td>\n",
              "      <td>False</td>\n",
              "      <td>False</td>\n",
              "      <td>False</td>\n",
              "      <td>False</td>\n",
              "    </tr>\n",
              "    <tr>\n",
              "      <th>2</th>\n",
              "      <td>False</td>\n",
              "      <td>False</td>\n",
              "      <td>False</td>\n",
              "      <td>False</td>\n",
              "      <td>False</td>\n",
              "      <td>False</td>\n",
              "      <td>False</td>\n",
              "      <td>False</td>\n",
              "    </tr>\n",
              "    <tr>\n",
              "      <th>3</th>\n",
              "      <td>False</td>\n",
              "      <td>False</td>\n",
              "      <td>False</td>\n",
              "      <td>False</td>\n",
              "      <td>False</td>\n",
              "      <td>False</td>\n",
              "      <td>False</td>\n",
              "      <td>False</td>\n",
              "    </tr>\n",
              "    <tr>\n",
              "      <th>4</th>\n",
              "      <td>False</td>\n",
              "      <td>False</td>\n",
              "      <td>False</td>\n",
              "      <td>False</td>\n",
              "      <td>False</td>\n",
              "      <td>False</td>\n",
              "      <td>False</td>\n",
              "      <td>False</td>\n",
              "    </tr>\n",
              "  </tbody>\n",
              "</table>\n",
              "</div>"
            ],
            "text/plain": [
              "   STATES  Total Cases  ...  Discharge Ratio (%)  Death Ratio (%)\n",
              "0   False        False  ...                False            False\n",
              "1   False        False  ...                False            False\n",
              "2   False        False  ...                False            False\n",
              "3   False        False  ...                False            False\n",
              "4   False        False  ...                False            False\n",
              "\n",
              "[5 rows x 8 columns]"
            ]
          },
          "metadata": {},
          "execution_count": 197
        }
      ]
    },
    {
      "cell_type": "markdown",
      "metadata": {
        "id": "6q492tXonj2N"
      },
      "source": [
        "* The `.isnull()` method returns `False` if there is no null values in current working dataset. "
      ]
    },
    {
      "cell_type": "code",
      "metadata": {
        "colab": {
          "base_uri": "https://localhost:8080/"
        },
        "id": "N8GLKSqmoO2Z",
        "outputId": "5551fcb5-17ae-4487-bfc5-2c15c65e4823"
      },
      "source": [
        "covidata.isnull().sum()"
      ],
      "execution_count": 25,
      "outputs": [
        {
          "output_type": "execute_result",
          "data": {
            "text/plain": [
              "STATES                 0\n",
              "Total Cases            0\n",
              "Active                 0\n",
              "Discharged             0\n",
              "Deaths                 0\n",
              "Active Ratio (%)       0\n",
              "Discharge Ratio (%)    0\n",
              "Death Ratio (%)        0\n",
              "dtype: int64"
            ]
          },
          "metadata": {},
          "execution_count": 25
        }
      ]
    },
    {
      "cell_type": "markdown",
      "metadata": {
        "id": "kJGIOW36owPJ"
      },
      "source": [
        "* Finally there are no null values since `.sum()` returns `0` for everything."
      ]
    },
    {
      "cell_type": "markdown",
      "metadata": {
        "id": "MzzZGLnfplIT"
      },
      "source": [
        "# **DATA VISUALIZATION**"
      ]
    },
    {
      "cell_type": "markdown",
      "metadata": {
        "id": "YYJ-JUJqp-kn"
      },
      "source": [
        ">Data visualization is the act of taking information (data) and placing \n",
        "it into a visual context , such as a map or graph. Data visualizations make big and small data easier for the human brain to understand, and visualization also makes it easier to detect patterns, trends, and outliers in groups of data."
      ]
    },
    {
      "cell_type": "markdown",
      "metadata": {
        "id": "9FMPCwpwqRUg"
      },
      "source": [
        "Data visualization is mostly carried out by using the libraries matplotlib and seaborn. we've already imported `matplotlib` and `seaborn`."
      ]
    },
    {
      "cell_type": "markdown",
      "metadata": {
        "id": "V3JiYoAxrtjz"
      },
      "source": [
        "### **Total number of Covid cases in India.**"
      ]
    },
    {
      "cell_type": "code",
      "metadata": {
        "colab": {
          "base_uri": "https://localhost:8080/",
          "height": 672
        },
        "id": "x38YX85usBMV",
        "outputId": "4fa54400-ce42-45f1-d588-12b05725c0ac"
      },
      "source": [
        "plt.figure(figsize=(20,7))\n",
        "plt.bar(covidata['STATES'],covidata['Total Cases'],color='Grey')\n",
        "plt.title(\"COVID-19 IN INDIA\")\n",
        "plt.ylabel('STATES')\n",
        "plt.xlabel('Total Cases')\n",
        "plt.xticks(rotation=90)\n",
        "plt.show()"
      ],
      "execution_count": 109,
      "outputs": [
        {
          "output_type": "display_data",
          "data": {
            "image/png": "[encoded data removed]",
            "text/plain": [
              "<Figure size 1440x504 with 1 Axes>"
            ]
          },
          "metadata": {
            "needs_background": "light"
          }
        }
      ]
    },
    {
      "cell_type": "markdown",
      "metadata": {
        "id": "B9IzW49x7eFo"
      },
      "source": [
        "> From the above plot, Maharastra is the most effected state by the covid-19 and Andaman and Nicobar is least effected state by the covid-19."
      ]
    },
    {
      "cell_type": "code",
      "metadata": {
        "colab": {
          "base_uri": "https://localhost:8080/",
          "height": 550
        },
        "id": "XXpeGUiK8qnR",
        "outputId": "57da6bf9-bb7e-4487-a2b3-9d83756844d2"
      },
      "source": [
        "plt.figure(figsize=(10,5))\n",
        "sns.lineplot(x=covidata['STATES'],y=covidata['Active'],color='green')\n",
        "sns.lineplot(x=covidata['STATES'],y=covidata['Deaths'],color='black')\n",
        "plt.xticks(rotation=90)\n",
        "plt.grid()\n",
        "plt.show()"
      ],
      "execution_count": 140,
      "outputs": [
        {
          "output_type": "display_data",
          "data": {
            "image/png": "[encoded data removed]",
            "text/plain": [
              "<Figure size 720x360 with 1 Axes>"
            ]
          },
          "metadata": {
            "needs_background": "light"
          }
        }
      ]
    },
    {
      "cell_type": "markdown",
      "metadata": {
        "id": "kEiUCoA2CQaJ"
      },
      "source": [
        "> From this above lineplot it is clear that `Active` covid cases in India are comparively more than `Deaths`."
      ]
    },
    {
      "cell_type": "code",
      "metadata": {
        "colab": {
          "base_uri": "https://localhost:8080/",
          "height": 411
        },
        "id": "Ne0OkMxNJqRp",
        "outputId": "f37cebf2-5a05-4e25-cefe-fd8e56ae250e"
      },
      "source": [
        "#Tcases=covidata['Total Cases'].sum()\n",
        "Acases=covidata['Active'].sum()\n",
        "Dcases=covidata['Discharged'].sum()\n",
        "Dtcases=covidata['Deaths'].sum()\n",
        "lab=[\"Active\",\"Discharge\",\"Deaths\"]\n",
        "ex=[0,0,0]\n",
        "plt.figure(figsize=(7,7))\n",
        "data=np.array([Acases,Dcases,Dtcases])\n",
        "plt.pie(data,labels=lab,explode=ex,autopct=\"%1.1f%%\")\n",
        "plt.legend()\n",
        "plt.show()"
      ],
      "execution_count": 189,
      "outputs": [
        {
          "output_type": "display_data",
          "data": {
            "image/png": "[encoded data removed]",
            "text/plain": [
              "<Figure size 504x504 with 1 Axes>"
            ]
          },
          "metadata": {}
        }
      ]
    },
    {
      "cell_type": "markdown",
      "metadata": {
        "id": "SBe-Nh0xRHlM"
      },
      "source": [
        "> Discharge percentage is far more greater than Active,Death percentages. "
      ]
    },
    {
      "cell_type": "code",
      "metadata": {
        "colab": {
          "base_uri": "https://localhost:8080/",
          "height": 387
        },
        "id": "86cDAJ_7Rlle",
        "outputId": "fd708061-e9c4-4e70-d1bb-8efa4767d91c"
      },
      "source": [
        "sns.lmplot('Total Cases','Death Ratio (%)',covidata)"
      ],
      "execution_count": 196,
      "outputs": [
        {
          "output_type": "execute_result",
          "data": {
            "text/plain": [
              "<seaborn.axisgrid.FacetGrid at 0x7f2cd4faf290>"
            ]
          },
          "metadata": {},
          "execution_count": 196
        },
        {
          "output_type": "display_data",
          "data": {
            "image/png": "[encoded data removed]",
            "text/plain": [
              "<Figure size 360x360 with 1 Axes>"
            ]
          },
          "metadata": {
            "needs_background": "light"
          }
        }
      ]
    },
    {
      "cell_type": "markdown",
      "metadata": {
        "id": "pEsAOki6S85T"
      },
      "source": [
        "> The scatterplot between Total Cases and Death Ratio shows week negative corelation."
      ]
    },
    {
      "cell_type": "markdown",
      "metadata": {
        "id": "gcqNBa66TdEy"
      },
      "source": [
        "# **CONCLUSION**\n",
        "\n",
        "* It is found that Maharashtra has highest conformed cases and Andaman and Nicobar has least conformed cases.\n",
        "* Discharged Cases are far more than Active Cases and Death Cases. Hence it can be inferred that Recovery rate is greater than Death rate.\n"
      ]
    }
  ]
}